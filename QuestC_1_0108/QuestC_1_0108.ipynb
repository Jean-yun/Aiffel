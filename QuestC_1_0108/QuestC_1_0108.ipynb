{
  "nbformat": 4,
  "nbformat_minor": 0,
  "metadata": {
    "colab": {
      "provenance": []
    },
    "kernelspec": {
      "name": "python3",
      "display_name": "Python 3"
    },
    "language_info": {
      "name": "python"
    }
  },
  "cells": [
    {
      "cell_type": "code",
      "execution_count": 1,
      "metadata": {
        "id": "gTnp4fQgn8b3"
      },
      "outputs": [],
      "source": [
        "import random\n",
        "import time"
      ]
    },
    {
      "cell_type": "code",
      "source": [
        "# 1. Account 클래스 :\n",
        "# - 은행에 가서 계좌를 개설하면 은행이름, 예금주, 계좌번호, 잔액이 설정됩니다. Account 클래스를 생성한 후 init_ 메서드를 구현해보세요.\n",
        "# -_init_메서드에서는 예금주와 초기 잔액만 입력 받습니다.\n",
        "# - 은행이름은 SC은행으로 계좌번호는 3자리-2자리-6자리 형태로 랜덤하게 생성됩니다.\n",
        "# (은행이름: sc은행, 계좌번호: 111-11-111111)\n",
        "# 2. 입금 메서드 : Account 클래스에 입금을 위한 deposit 메서드를 추가하세요. 입금은 최소 1원 이상만 가능합니다.\n",
        "# 3. 출금 메서드 : Account 클래스에 출금을 위한 withdraw 메서드를 추가하세요. 출금은 계좌의 잔고 이상으로 출금할 수는 없습니다.\n",
        "# 4. 정보 출력 메서드 : Account 인스턴스에 저장된 정보를 출력하는 display_info() 메서드를 추가하세요. 잔고는 세자리마다 쉼표를 출력하세요.\n",
        "# (예시- 은행이름: SC은행,예금주: 파이썬, 계좌번호: 111-11-111111, 잔고: 10,000원)\n",
        "# 5. 이자 지급하기 입금 횟수가 5회가 될 때 잔고를 기준으로 1%의 이자가 잔고에 추가되도록 코드를 추가해보세요.\n",
        "# 6. 입금 내역과 출금 내역을 출력하는 deposit_history와 withdraw_history 메서드를 추가하세요. (입금 시간과 출력 시간을 기록해주세요.)\n",
        "# 7. 입금 내역과 출금 내역을 함께 출력하는 alLhistory 메서드를 추가하세요"
      ],
      "metadata": {
        "id": "xCoDrtnNsucG"
      },
      "execution_count": 2,
      "outputs": []
    },
    {
      "cell_type": "code",
      "source": [
        "class Account:\n",
        "\n",
        "  # 1. Account 클래스\n",
        "  def __init__(self, owner, balance): # -_init_메서드에서는 예금주와 초기 잔액만 입력 받습니다.\n",
        "    # 계좌번호는 3자리-2자리-6자리 형태로 랜덤하게 생성\n",
        "    self.account_number = f\"{random.randint(100,999)}-{random.randint(10,99)}-{random.randint(100000,999999)}\"\n",
        "    self.balance = balance  # 잔액\n",
        "    self.owner = owner  # 예금주\n",
        "    self.deposit_history_list=[]  # 입금 내역 저장\n",
        "    self.withdraw_history_list=[]   # 출금 내역 저장\n",
        "    self.deposit_count = 0  # 이자 지급을 위한 입금 횟수 기록\n",
        "    self.bank_name = \"SC은행\"   # - 은행이름은 SC은행\n",
        "\n",
        "  # 금액에 세자리마다 쉼표를 추가하는 메서드\n",
        "  def money_format(self, money):\n",
        "    return format(money, \",\")\n",
        "\n",
        "  # 2. 입금 메서드 : Account 클래스에 입금을 위한 deposit 메서드\n",
        "  def deposit(self, amount):\n",
        "    if amount >= 1:   # 입금은 최소 1원 이상만 가능\n",
        "      self.balance = self.balance + amount\n",
        "      self.deposit_history_list.append((time.strftime('%Y-%m-%d %H:%M:%S'), amount))  # 입금 시간과 입금액 저장\n",
        "      self.deposit_count += 1\n",
        "      print(f\"{self.money_format(amount)}원 입금 되었습니다.\")\n",
        "\n",
        "      # 5. 이자 지급하기 입금 횟수가 5회가 될 때 잔고를 기준으로 1%의 이자가 잔고에 추가\n",
        "      if self.deposit_count % 5 == 0:\n",
        "        interest = self.balance * 0.01\n",
        "        self.balance = self.balance + interest\n",
        "        print(f\"{self.money_format(interest)}원 이자가 입금되었습니다.\")\n",
        "\n",
        "    else:\n",
        "      print(\"1원 이상만 입금이 가능합니다.\") # 입금액이 1원 미만일 때 출력\n",
        "\n",
        "  # 3. 출금 메서드 : Account 클래스에 출금을 위한 withdraw 메서드\n",
        "  def withraw(self, amount):\n",
        "    if amount <= self.balance:    # 출금은 계좌의 잔고 이상으로 출금할 수는 없습니다.\n",
        "      self.balance = self.balance - amount\n",
        "      self.withdraw_history_list.append((time.strftime('%Y-%m-%d %H:%M:%S'), amount)) # 출금 시간과 출금액 저장\n",
        "      print(f\"{self.money_format(amount)}원 출금 되었습니다.\")\n",
        "\n",
        "    else:\n",
        "      print(\"잔액이 부족합니다\")    # 잔고 이상으로 출금하려고 할 때 출력\n",
        "\n",
        "  # 4. 정보 출력 메서드 : Account 인스턴스에 저장된 정보를 출력하는 display_info() 메서드\n",
        "  def display_info(self):\n",
        "    # (예시- 은행이름: SC은행,예금주: 파이썬, 계좌번호: 111-11-111111, 잔고: 10,000원)\n",
        "    print(f\"은행이름: {self.bank_name}, 예금주: {self.owner}, 계좌번호: {self.account_number}, 잔고: {self.money_format(self.balance)}원\")\n",
        "\n",
        "  # 6. 입금 내역과 출금 내역을 출력하는 deposit_history와 withdraw_history 메서드\n",
        "  def deposit_history(self):\n",
        "    for deposit in self.deposit_history_list:\n",
        "      print(f\"입금시간: {deposit[0]}, 입금액:{self.money_format(deposit[1])}원\")\n",
        "   # 오류 해결 : deposit_history 메서드와 기록하는 deposit_history_list 리스트의 이름을 처음에 똑같이 설정하여 오류 발생. 토의를 통해 해결\n",
        "\n",
        "  def withdraw_history(self):\n",
        "    for withdraw in self.withdraw_history_list:\n",
        "      print(f\"출금시간: {withdraw[0]}, 출금액:{self.money_format(withdraw[1])}원\")\n",
        "\n",
        "  # 7. 입금 내역과 출금 내역을 함께 출력하는 alㅣ_history 메서드\n",
        "  def all_history(self):\n",
        "    print(\"전체내역:\")\n",
        "    self.deposit_history()\n",
        "    self.withdraw_history()"
      ],
      "metadata": {
        "id": "Z1puBKtwqmTx"
      },
      "execution_count": 3,
      "outputs": []
    },
    {
      "cell_type": "code",
      "source": [
        "# 테스트\n",
        "account = Account(\"이영우\", 4400)"
      ],
      "metadata": {
        "id": "xDFoKoWT3uE2"
      },
      "execution_count": 4,
      "outputs": []
    },
    {
      "cell_type": "code",
      "source": [
        "account.display_info()"
      ],
      "metadata": {
        "id": "592fDuSi4wwb",
        "colab": {
          "base_uri": "https://localhost:8080/"
        },
        "outputId": "5ef41e25-75bc-495f-890b-332ca595bae1"
      },
      "execution_count": 5,
      "outputs": [
        {
          "output_type": "stream",
          "name": "stdout",
          "text": [
            "은행이름: SC은행, 예금주: 이영우, 계좌번호: 724-19-122364, 잔고: 4,400원\n"
          ]
        }
      ]
    },
    {
      "cell_type": "code",
      "source": [
        "account.deposit(6600)"
      ],
      "metadata": {
        "colab": {
          "base_uri": "https://localhost:8080/"
        },
        "id": "dK95_D2F9TzR",
        "outputId": "f9c6ca8e-c64e-4dd8-dbc1-3fbdfcb1912e"
      },
      "execution_count": 6,
      "outputs": [
        {
          "output_type": "stream",
          "name": "stdout",
          "text": [
            "6,600원 입금 되었습니다.\n"
          ]
        }
      ]
    },
    {
      "cell_type": "code",
      "source": [
        "account.deposit(1600)"
      ],
      "metadata": {
        "id": "Yd6jpESt_2bb",
        "colab": {
          "base_uri": "https://localhost:8080/"
        },
        "outputId": "5d38cf4e-e1da-4746-f8b5-459155676b71"
      },
      "execution_count": 7,
      "outputs": [
        {
          "output_type": "stream",
          "name": "stdout",
          "text": [
            "1,600원 입금 되었습니다.\n"
          ]
        }
      ]
    },
    {
      "cell_type": "code",
      "source": [
        "account.deposit(66000)"
      ],
      "metadata": {
        "id": "Nj_9H0M3_4CQ",
        "colab": {
          "base_uri": "https://localhost:8080/"
        },
        "outputId": "a8b98d6b-125c-4ef4-d545-87170fdb4dbd"
      },
      "execution_count": 8,
      "outputs": [
        {
          "output_type": "stream",
          "name": "stdout",
          "text": [
            "66,000원 입금 되었습니다.\n"
          ]
        }
      ]
    },
    {
      "cell_type": "code",
      "source": [
        "account.deposit(600)"
      ],
      "metadata": {
        "id": "mUtNQ958_5cf",
        "colab": {
          "base_uri": "https://localhost:8080/"
        },
        "outputId": "e1a3f497-d418-4dca-9bb9-a93ec5ccbe5a"
      },
      "execution_count": 9,
      "outputs": [
        {
          "output_type": "stream",
          "name": "stdout",
          "text": [
            "600원 입금 되었습니다.\n"
          ]
        }
      ]
    },
    {
      "cell_type": "code",
      "source": [
        "account.deposit(126600)"
      ],
      "metadata": {
        "id": "oAFiHB0t_7Hp",
        "colab": {
          "base_uri": "https://localhost:8080/"
        },
        "outputId": "26741f15-7351-4281-e5a0-b4ed0b7e4dd9"
      },
      "execution_count": 10,
      "outputs": [
        {
          "output_type": "stream",
          "name": "stdout",
          "text": [
            "126,600원 입금 되었습니다.\n",
            "2,058.0원 이자가 입금되었습니다.\n"
          ]
        }
      ]
    },
    {
      "cell_type": "code",
      "source": [
        "account.deposit(-1)"
      ],
      "metadata": {
        "id": "S16e8zn6AbRn",
        "colab": {
          "base_uri": "https://localhost:8080/"
        },
        "outputId": "e7d96c83-5253-4dc9-f6f8-5b73e5fd059e"
      },
      "execution_count": 11,
      "outputs": [
        {
          "output_type": "stream",
          "name": "stdout",
          "text": [
            "1원 이상만 입금이 가능합니다.\n"
          ]
        }
      ]
    },
    {
      "cell_type": "code",
      "source": [
        "account.display_info()"
      ],
      "metadata": {
        "id": "fBWhlbXZ9or0",
        "colab": {
          "base_uri": "https://localhost:8080/"
        },
        "outputId": "6d81f818-c2a8-44ce-f72e-281dffbdd7e0"
      },
      "execution_count": 12,
      "outputs": [
        {
          "output_type": "stream",
          "name": "stdout",
          "text": [
            "은행이름: SC은행, 예금주: 이영우, 계좌번호: 724-19-122364, 잔고: 207,858.0원\n"
          ]
        }
      ]
    },
    {
      "cell_type": "code",
      "source": [
        "account.withraw(6600)"
      ],
      "metadata": {
        "id": "iijZqdCc_Kji",
        "colab": {
          "base_uri": "https://localhost:8080/"
        },
        "outputId": "920f9ece-27de-4590-8fe6-b1123fb60f7c"
      },
      "execution_count": 13,
      "outputs": [
        {
          "output_type": "stream",
          "name": "stdout",
          "text": [
            "6,600원 출금 되었습니다.\n"
          ]
        }
      ]
    },
    {
      "cell_type": "code",
      "source": [
        "account.display_info()"
      ],
      "metadata": {
        "id": "vFqKiy_2_PqZ",
        "colab": {
          "base_uri": "https://localhost:8080/"
        },
        "outputId": "29e7aff3-6682-4c8f-a2d7-18f39ca8fa3d"
      },
      "execution_count": 14,
      "outputs": [
        {
          "output_type": "stream",
          "name": "stdout",
          "text": [
            "은행이름: SC은행, 예금주: 이영우, 계좌번호: 724-19-122364, 잔고: 201,258.0원\n"
          ]
        }
      ]
    },
    {
      "cell_type": "code",
      "source": [
        "account.deposit_history()"
      ],
      "metadata": {
        "colab": {
          "base_uri": "https://localhost:8080/"
        },
        "id": "uwHtI7wU_Rp7",
        "outputId": "283fdbc8-2560-4b71-a243-a97275bea4f9"
      },
      "execution_count": 15,
      "outputs": [
        {
          "output_type": "stream",
          "name": "stdout",
          "text": [
            "입금시간: 2024-01-08 05:12:59, 입금액:6,600원\n",
            "입금시간: 2024-01-08 05:12:59, 입금액:1,600원\n",
            "입금시간: 2024-01-08 05:12:59, 입금액:66,000원\n",
            "입금시간: 2024-01-08 05:12:59, 입금액:600원\n",
            "입금시간: 2024-01-08 05:12:59, 입금액:126,600원\n"
          ]
        }
      ]
    },
    {
      "cell_type": "code",
      "source": [
        "account.withdraw_history()"
      ],
      "metadata": {
        "id": "Ub2afmJy_V7m",
        "colab": {
          "base_uri": "https://localhost:8080/"
        },
        "outputId": "821c2c1e-a517-46db-95ee-7c281141f873"
      },
      "execution_count": 16,
      "outputs": [
        {
          "output_type": "stream",
          "name": "stdout",
          "text": [
            "출금시간: 2024-01-08 05:12:59, 출금액:6,600원\n"
          ]
        }
      ]
    },
    {
      "cell_type": "code",
      "source": [
        "account.all_history()"
      ],
      "metadata": {
        "id": "2MjnEqkUE3t4",
        "colab": {
          "base_uri": "https://localhost:8080/"
        },
        "outputId": "5271ee81-54ee-4bed-8f36-6e8d9698ab05"
      },
      "execution_count": 17,
      "outputs": [
        {
          "output_type": "stream",
          "name": "stdout",
          "text": [
            "전체내역:\n",
            "입금시간: 2024-01-08 05:12:59, 입금액:6,600원\n",
            "입금시간: 2024-01-08 05:12:59, 입금액:1,600원\n",
            "입금시간: 2024-01-08 05:12:59, 입금액:66,000원\n",
            "입금시간: 2024-01-08 05:12:59, 입금액:600원\n",
            "입금시간: 2024-01-08 05:12:59, 입금액:126,600원\n",
            "출금시간: 2024-01-08 05:12:59, 출금액:6,600원\n"
          ]
        }
      ]
    },
    {
      "cell_type": "code",
      "source": [],
      "metadata": {
        "id": "n522UYsxGSlB"
      },
      "execution_count": 17,
      "outputs": []
    }
  ]
}